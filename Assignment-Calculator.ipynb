{
 "cells": [
  {
   "cell_type": "code",
   "execution_count": 2,
   "id": "4d9863b1",
   "metadata": {},
   "outputs": [
    {
     "name": "stdout",
     "output_type": "stream",
     "text": [
      "10\n",
      "94\n",
      "104\n",
      "84\n",
      "940\n",
      "9.4\n"
     ]
    }
   ],
   "source": [
    "class Calculator:\n",
    "    def __init__(self,num1,num2):\n",
    "        self.num1=num1\n",
    "        self.num2=num2\n",
    "    def add(self):\n",
    "        return num1+num2\n",
    "    def subtract(self):\n",
    "        return num2-num1\n",
    "    def multiply(self):\n",
    "        return num1*num2\n",
    "    def divide(self):\n",
    "        return num2/num1\n",
    "    \n",
    "num1=int(input())\n",
    "num2=int(input())\n",
    "obj=Calculator(num1,num2)\n",
    "print(obj.add())\n",
    "print(obj.subtract())\n",
    "print(obj.multiply())\n",
    "print(obj.divide())"
   ]
  },
  {
   "cell_type": "code",
   "execution_count": null,
   "id": "a6d33f90",
   "metadata": {},
   "outputs": [],
   "source": []
  }
 ],
 "metadata": {
  "kernelspec": {
   "display_name": "Python 3 (ipykernel)",
   "language": "python",
   "name": "python3"
  },
  "language_info": {
   "codemirror_mode": {
    "name": "ipython",
    "version": 3
   },
   "file_extension": ".py",
   "mimetype": "text/x-python",
   "name": "python",
   "nbconvert_exporter": "python",
   "pygments_lexer": "ipython3",
   "version": "3.10.1"
  }
 },
 "nbformat": 4,
 "nbformat_minor": 5
}
