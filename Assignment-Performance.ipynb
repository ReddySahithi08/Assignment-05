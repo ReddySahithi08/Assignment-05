{
 "cells": [
  {
   "cell_type": "code",
   "execution_count": 3,
   "id": "5bef304a",
   "metadata": {},
   "outputs": [
    {
     "name": "stdout",
     "output_type": "stream",
     "text": [
      "tejashri\n",
      "80\n",
      "90\n",
      "40\n",
      "210\n",
      "70\n"
     ]
    }
   ],
   "source": [
    "class Student:\n",
    "    def __init__(self,name,phy,chem,bio):\n",
    "        self.name=name\n",
    "        self.phy=phy\n",
    "        self.chem=chem\n",
    "        self.bio=bio\n",
    "    def totalObtained(self):\n",
    "        return self.phy+self.chem+self.bio\n",
    "    def percentage(self):\n",
    "        print(self.totalObtained()//3)\n",
    "name=input()\n",
    "phy=int(input())\n",
    "chem=int(input())\n",
    "bio=int(input())\n",
    "obj1=Student(name,phy,chem,bio)\n",
    "print(obj1.totalObtained())\n",
    "obj1.percentage()\n",
    "    "
   ]
  },
  {
   "cell_type": "code",
   "execution_count": null,
   "id": "cc19ccd4",
   "metadata": {},
   "outputs": [],
   "source": []
  }
 ],
 "metadata": {
  "kernelspec": {
   "display_name": "Python 3 (ipykernel)",
   "language": "python",
   "name": "python3"
  },
  "language_info": {
   "codemirror_mode": {
    "name": "ipython",
    "version": 3
   },
   "file_extension": ".py",
   "mimetype": "text/x-python",
   "name": "python",
   "nbconvert_exporter": "python",
   "pygments_lexer": "ipython3",
   "version": "3.10.1"
  }
 },
 "nbformat": 4,
 "nbformat_minor": 5
}
